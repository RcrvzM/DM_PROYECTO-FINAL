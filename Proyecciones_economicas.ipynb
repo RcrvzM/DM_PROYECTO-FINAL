{
  "nbformat": 4,
  "nbformat_minor": 0,
  "metadata": {
    "colab": {
      "provenance": [],
      "authorship_tag": "ABX9TyPCXE1+Hfrn4Uu97An+3K8+",
      "include_colab_link": true
    },
    "kernelspec": {
      "name": "python3",
      "display_name": "Python 3"
    },
    "language_info": {
      "name": "python"
    }
  },
  "cells": [
    {
      "cell_type": "markdown",
      "metadata": {
        "id": "view-in-github",
        "colab_type": "text"
      },
      "source": [
        "<a href=\"https://colab.research.google.com/github/RcrvzM/DM_PROYECTO-FINAL/blob/main/Proyecciones_economicas.ipynb\" target=\"_parent\"><img src=\"https://colab.research.google.com/assets/colab-badge.svg\" alt=\"Open In Colab\"/></a>"
      ]
    },
    {
      "cell_type": "code",
      "source": [
        "# Instalar Java y Spark\n",
        "!apt-get install openjdk-11-jdk -y\n",
        "!wget -q https://downloads.apache.org/spark/spark-3.3.2/spark-3.3.2-bin-hadoop3.tgz\n",
        "!tar xf spark-3.3.2-bin-hadoop3.tgz\n",
        "!pip install -q findspark\n",
        "\n",
        "# Configurar variables de entorno\n",
        "import os\n",
        "os.environ[\"JAVA_HOME\"] = \"/usr/lib/jvm/java-11-openjdk-amd64\"\n",
        "os.environ[\"SPARK_HOME\"] = \"/content/spark-3.3.2-bin-hadoop3\"\n",
        "\n",
        "# Iniciar Spark\n",
        "import findspark\n",
        "findspark.init()\n",
        "\n",
        "from pyspark.sql import SparkSession\n",
        "spark = SparkSession.builder.appName(\"PIB_Mundial\").getOrCreate()\n",
        "\n",
        "spark.version\n"
      ],
      "metadata": {
        "collapsed": true,
        "colab": {
          "base_uri": "https://localhost:8080/",
          "height": 530
        },
        "id": "_s1Y77uZ3Lkf",
        "outputId": "4cd257ab-6299-4b15-b03c-bf8c9d956985"
      },
      "execution_count": 3,
      "outputs": [
        {
          "output_type": "stream",
          "name": "stdout",
          "text": [
            "Reading package lists... Done\n",
            "Building dependency tree... Done\n",
            "Reading state information... Done\n",
            "openjdk-11-jdk is already the newest version (11.0.26+4-1ubuntu1~22.04).\n",
            "0 upgraded, 0 newly installed, 0 to remove and 34 not upgraded.\n",
            "tar: spark-3.3.2-bin-hadoop3.tgz: Cannot open: No such file or directory\n",
            "tar: Error is not recoverable: exiting now\n"
          ]
        },
        {
          "output_type": "error",
          "ename": "Exception",
          "evalue": "Unable to find py4j in /content/spark-3.3.2-bin-hadoop3/python, your SPARK_HOME may not be configured correctly",
          "traceback": [
            "\u001b[0;31m---------------------------------------------------------------------------\u001b[0m",
            "\u001b[0;31mIndexError\u001b[0m                                Traceback (most recent call last)",
            "\u001b[0;32m/usr/local/lib/python3.11/dist-packages/findspark.py\u001b[0m in \u001b[0;36minit\u001b[0;34m(spark_home, python_path, edit_rc, edit_profile)\u001b[0m\n\u001b[1;32m    158\u001b[0m         \u001b[0;32mtry\u001b[0m\u001b[0;34m:\u001b[0m\u001b[0;34m\u001b[0m\u001b[0;34m\u001b[0m\u001b[0m\n\u001b[0;32m--> 159\u001b[0;31m             \u001b[0mpy4j\u001b[0m \u001b[0;34m=\u001b[0m \u001b[0mglob\u001b[0m\u001b[0;34m(\u001b[0m\u001b[0mos\u001b[0m\u001b[0;34m.\u001b[0m\u001b[0mpath\u001b[0m\u001b[0;34m.\u001b[0m\u001b[0mjoin\u001b[0m\u001b[0;34m(\u001b[0m\u001b[0mspark_python\u001b[0m\u001b[0;34m,\u001b[0m \u001b[0;34m\"lib\"\u001b[0m\u001b[0;34m,\u001b[0m \u001b[0;34m\"py4j-*.zip\"\u001b[0m\u001b[0;34m)\u001b[0m\u001b[0;34m)\u001b[0m\u001b[0;34m[\u001b[0m\u001b[0;36m0\u001b[0m\u001b[0;34m]\u001b[0m\u001b[0;34m\u001b[0m\u001b[0;34m\u001b[0m\u001b[0m\n\u001b[0m\u001b[1;32m    160\u001b[0m         \u001b[0;32mexcept\u001b[0m \u001b[0mIndexError\u001b[0m\u001b[0;34m:\u001b[0m\u001b[0;34m\u001b[0m\u001b[0;34m\u001b[0m\u001b[0m\n",
            "\u001b[0;31mIndexError\u001b[0m: list index out of range",
            "\nDuring handling of the above exception, another exception occurred:\n",
            "\u001b[0;31mException\u001b[0m                                 Traceback (most recent call last)",
            "\u001b[0;32m<ipython-input-3-091753713ea8>\u001b[0m in \u001b[0;36m<cell line: 0>\u001b[0;34m()\u001b[0m\n\u001b[1;32m     12\u001b[0m \u001b[0;31m# Iniciar Spark\u001b[0m\u001b[0;34m\u001b[0m\u001b[0;34m\u001b[0m\u001b[0m\n\u001b[1;32m     13\u001b[0m \u001b[0;32mimport\u001b[0m \u001b[0mfindspark\u001b[0m\u001b[0;34m\u001b[0m\u001b[0;34m\u001b[0m\u001b[0m\n\u001b[0;32m---> 14\u001b[0;31m \u001b[0mfindspark\u001b[0m\u001b[0;34m.\u001b[0m\u001b[0minit\u001b[0m\u001b[0;34m(\u001b[0m\u001b[0;34m)\u001b[0m\u001b[0;34m\u001b[0m\u001b[0;34m\u001b[0m\u001b[0m\n\u001b[0m\u001b[1;32m     15\u001b[0m \u001b[0;34m\u001b[0m\u001b[0m\n\u001b[1;32m     16\u001b[0m \u001b[0;32mfrom\u001b[0m \u001b[0mpyspark\u001b[0m\u001b[0;34m.\u001b[0m\u001b[0msql\u001b[0m \u001b[0;32mimport\u001b[0m \u001b[0mSparkSession\u001b[0m\u001b[0;34m\u001b[0m\u001b[0;34m\u001b[0m\u001b[0m\n",
            "\u001b[0;32m/usr/local/lib/python3.11/dist-packages/findspark.py\u001b[0m in \u001b[0;36minit\u001b[0;34m(spark_home, python_path, edit_rc, edit_profile)\u001b[0m\n\u001b[1;32m    159\u001b[0m             \u001b[0mpy4j\u001b[0m \u001b[0;34m=\u001b[0m \u001b[0mglob\u001b[0m\u001b[0;34m(\u001b[0m\u001b[0mos\u001b[0m\u001b[0;34m.\u001b[0m\u001b[0mpath\u001b[0m\u001b[0;34m.\u001b[0m\u001b[0mjoin\u001b[0m\u001b[0;34m(\u001b[0m\u001b[0mspark_python\u001b[0m\u001b[0;34m,\u001b[0m \u001b[0;34m\"lib\"\u001b[0m\u001b[0;34m,\u001b[0m \u001b[0;34m\"py4j-*.zip\"\u001b[0m\u001b[0;34m)\u001b[0m\u001b[0;34m)\u001b[0m\u001b[0;34m[\u001b[0m\u001b[0;36m0\u001b[0m\u001b[0;34m]\u001b[0m\u001b[0;34m\u001b[0m\u001b[0;34m\u001b[0m\u001b[0m\n\u001b[1;32m    160\u001b[0m         \u001b[0;32mexcept\u001b[0m \u001b[0mIndexError\u001b[0m\u001b[0;34m:\u001b[0m\u001b[0;34m\u001b[0m\u001b[0;34m\u001b[0m\u001b[0m\n\u001b[0;32m--> 161\u001b[0;31m             raise Exception(\n\u001b[0m\u001b[1;32m    162\u001b[0m                 \"Unable to find py4j in {}, your SPARK_HOME may not be configured correctly\".format(\n\u001b[1;32m    163\u001b[0m                     \u001b[0mspark_python\u001b[0m\u001b[0;34m\u001b[0m\u001b[0;34m\u001b[0m\u001b[0m\n",
            "\u001b[0;31mException\u001b[0m: Unable to find py4j in /content/spark-3.3.2-bin-hadoop3/python, your SPARK_HOME may not be configured correctly"
          ]
        }
      ]
    },
    {
      "cell_type": "code",
      "source": [
        "#Fin de instalacion de Spark"
      ],
      "metadata": {
        "id": "oduXp8StE_FC"
      },
      "execution_count": null,
      "outputs": []
    },
    {
      "cell_type": "code",
      "source": [
        "#Incio de descarga de fuentes de datos"
      ],
      "metadata": {
        "id": "zek3nOytFCe8"
      },
      "execution_count": null,
      "outputs": []
    },
    {
      "cell_type": "code",
      "source": [
        "import requests, json\n",
        "\n",
        "# API del Banco Mundial - PIB\n",
        "url_pib = \"http://api.worldbank.org/v2/country/all/indicator/NY.GDP.MKTP.CD?format=json&per_page=20000\"\n",
        "r_pib = requests.get(url_pib)\n",
        "data_pib = r_pib.json()[1]\n",
        "\n",
        "# Guardar como JSONL\n",
        "with open(\"/content/pib.json\", \"w\") as f:\n",
        "    for record in data_pib:\n",
        "        f.write(json.dumps(record) + \"\\n\")\n"
      ],
      "metadata": {
        "id": "0W0VtwRa-_Ic"
      },
      "execution_count": 103,
      "outputs": []
    },
    {
      "cell_type": "code",
      "source": [
        "# API del Banco Mundial - Tasa de empleo (% de población)\n",
        "url_empleo = \"http://api.worldbank.org/v2/country/all/indicator/SL.EMP.TOTL.SP.ZS?format=json&per_page=20000\"\n",
        "r_empleo = requests.get(url_empleo)\n",
        "data_empleo = r_empleo.json()[1]\n",
        "\n",
        "# Guardar como JSONL\n",
        "with open(\"/content/empleo.json\", \"w\") as f:\n",
        "    for record in data_empleo:\n",
        "        f.write(json.dumps(record) + \"\\n\")\n"
      ],
      "metadata": {
        "id": "bXD1yy3T_F7J"
      },
      "execution_count": 104,
      "outputs": []
    },
    {
      "cell_type": "code",
      "source": [
        "import requests\n",
        "\n",
        "# API SDMX del FMI – Tipo de cambio (ENDE_XDC_USD_RATE)\n",
        "url_fx = \"http://dataservices.imf.org/REST/SDMX_XML.svc/CompactData/IFS/A..ENDE_XDC_USD_RATE\"\n",
        "\n",
        "# Descargar archivo\n",
        "r_fx = requests.get(url_fx)\n",
        "\n",
        "# Guardar en disco (sin procesamiento aún)\n",
        "with open(\"/content/fx.xml\", \"wb\") as f:\n",
        "    f.write(r_fx.content)\n"
      ],
      "metadata": {
        "id": "6GbtlSrR_KNk"
      },
      "execution_count": 130,
      "outputs": []
    },
    {
      "cell_type": "code",
      "source": [
        "# Fin de descarga de fuentes de datos"
      ],
      "metadata": {
        "id": "g_wdgXqkFFuX"
      },
      "execution_count": null,
      "outputs": []
    },
    {
      "cell_type": "code",
      "source": [
        "# Inicio de validaciones de fuentes de datos"
      ],
      "metadata": {
        "id": "caF5a87SE0oz"
      },
      "execution_count": null,
      "outputs": []
    },
    {
      "cell_type": "code",
      "source": [
        "from pyspark.sql.functions import col\n",
        "\n",
        "# Cargar archivos JSONL\n",
        "df_pib = spark.read.json(\"/content/pib.json\")\n",
        "df_empleo = spark.read.json(\"/content/empleo.json\")\n",
        "\n",
        "# Función de validación de estructura\n",
        "def validar_dataset(df, nombre, columnas):\n",
        "    print(f\"\\n📊 Validando: {nombre}\")\n",
        "    errores = {}\n",
        "    total = df.count()\n",
        "    print(f\"Total filas: {total}\")\n",
        "\n",
        "    for columna in columnas:\n",
        "        nulos = df.filter(col(columna).isNull()).count()\n",
        "        errores[columna] = nulos\n",
        "        print(f\"Nulos en '{columna}': {nulos}\")\n",
        "\n",
        "    return errores\n",
        "\n",
        "# Validar PIB\n",
        "validar_dataset(df_pib, \"PIB\", [\"country.value\", \"date\", \"value\"])\n",
        "\n",
        "# Validar Empleo\n",
        "validar_dataset(df_empleo, \"Empleo\", [\"country.value\", \"date\", \"value\"])\n"
      ],
      "metadata": {
        "colab": {
          "base_uri": "https://localhost:8080/"
        },
        "id": "vv-DZeOZADoo",
        "outputId": "3e798c6f-2717-42a9-8a26-ffc84d49eec0"
      },
      "execution_count": 106,
      "outputs": [
        {
          "output_type": "stream",
          "name": "stdout",
          "text": [
            "\n",
            "📊 Validando: PIB\n",
            "Total filas: 17290\n",
            "Nulos en 'country.value': 0\n",
            "Nulos en 'date': 0\n",
            "Nulos en 'value': 2983\n",
            "\n",
            "📊 Validando: Empleo\n",
            "Total filas: 17290\n",
            "Nulos en 'country.value': 0\n",
            "Nulos en 'date': 0\n",
            "Nulos en 'value': 9309\n"
          ]
        },
        {
          "output_type": "execute_result",
          "data": {
            "text/plain": [
              "{'country.value': 0, 'date': 0, 'value': 9309}"
            ]
          },
          "metadata": {},
          "execution_count": 106
        }
      ]
    },
    {
      "cell_type": "code",
      "source": [
        "import xml.etree.ElementTree as ET\n",
        "\n",
        "# Parsear el XML sin namespace\n",
        "tree = ET.parse(\"/content/fx.xml\")\n",
        "root = tree.getroot()\n",
        "\n",
        "# Extraer nodos <Series>\n",
        "series_nodos = root.findall(\".//{http://dataservices.imf.org/compact/IFS}Series\")\n",
        "\n",
        "print(f\"📌 Total Series encontradas: {len(series_nodos)}\")\n",
        "\n",
        "# Extraer observaciones\n",
        "data = []\n",
        "\n",
        "for serie in series_nodos:\n",
        "    pais = serie.attrib.get(\"REF_AREA\")\n",
        "    for obs in serie.findall(\"{http://dataservices.imf.org/compact/IFS}Obs\"):\n",
        "        anio = obs.attrib.get(\"TIME_PERIOD\")\n",
        "        valor = obs.attrib.get(\"OBS_VALUE\")\n",
        "        if pais and anio and valor:\n",
        "            data.append((pais, int(anio), float(valor)))\n",
        "\n",
        "# Ver resumen\n",
        "print(f\"✅ Total registros válidos: {len(data)}\")\n",
        "print(\"Ejemplo:\", data[:5])\n"
      ],
      "metadata": {
        "colab": {
          "base_uri": "https://localhost:8080/"
        },
        "id": "NggBCy66EUzf",
        "outputId": "901d35a5-b63c-40d7-d8c1-754e769e2664"
      },
      "execution_count": 134,
      "outputs": [
        {
          "output_type": "stream",
          "name": "stdout",
          "text": [
            "📌 Total Series encontradas: 226\n",
            "✅ Total registros válidos: 13939\n",
            "Ejemplo: [('NG', 1950, 0.714286), ('NG', 1951, 0.714286), ('NG', 1952, 0.714286), ('NG', 1953, 0.714286), ('NG', 1954, 0.714286)]\n"
          ]
        }
      ]
    },
    {
      "cell_type": "code",
      "source": [
        "# Fin de validaciones de fuentes de datos"
      ],
      "metadata": {
        "id": "acxTz44_E4mK"
      },
      "execution_count": null,
      "outputs": []
    },
    {
      "cell_type": "code",
      "source": [
        "#Cargar SPARK"
      ],
      "metadata": {
        "id": "_X55rivYFeXV"
      },
      "execution_count": null,
      "outputs": []
    },
    {
      "cell_type": "code",
      "source": [
        "df_pib = spark.read.json(\"/content/pib.json\")\n",
        "\n",
        "# Filtrar registros útiles\n",
        "df_pib_limpio = df_pib.filter(\n",
        "    col(\"country.value\").isNotNull() &\n",
        "    col(\"date\").isNotNull() &\n",
        "    col(\"value\").isNotNull()\n",
        ")\n",
        "\n",
        "# Renombrar columnas y tipos\n",
        "df_pib_limpio = df_pib_limpio.select(\n",
        "    col(\"country.value\").alias(\"pais\"),\n",
        "    col(\"date\").cast(\"int\").alias(\"anio\"),\n",
        "    col(\"value\").cast(\"double\").alias(\"pib_usd\")\n",
        ")\n",
        "\n",
        "df_pib_limpio.show(5)\n"
      ],
      "metadata": {
        "colab": {
          "base_uri": "https://localhost:8080/"
        },
        "id": "YElUZbemFf-d",
        "outputId": "995aceeb-0c45-4528-d98f-5bf1e1c15336"
      },
      "execution_count": 136,
      "outputs": [
        {
          "output_type": "stream",
          "name": "stdout",
          "text": [
            "+--------------------+----+-------------------+\n",
            "|                pais|anio|            pib_usd|\n",
            "+--------------------+----+-------------------+\n",
            "|Africa Eastern an...|2023|1.24547247167595E12|\n",
            "|Africa Eastern an...|2022|1.19142317624296E12|\n",
            "|Africa Eastern an...|2021|1.08574517885097E12|\n",
            "|Africa Eastern an...|2020|9.33391782089617E11|\n",
            "|Africa Eastern an...|2019|1.00972117405491E12|\n",
            "+--------------------+----+-------------------+\n",
            "only showing top 5 rows\n",
            "\n"
          ]
        }
      ]
    },
    {
      "cell_type": "code",
      "source": [
        "df_empleo = spark.read.json(\"/content/empleo.json\")\n",
        "\n",
        "# Filtrar registros válidos\n",
        "df_empleo_limpio = df_empleo.filter(\n",
        "    col(\"country.value\").isNotNull() &\n",
        "    col(\"date\").isNotNull() &\n",
        "    col(\"value\").isNotNull()\n",
        ")\n",
        "\n",
        "# Renombrar columnas y tipos\n",
        "df_empleo_limpio = df_empleo_limpio.select(\n",
        "    col(\"country.value\").alias(\"pais\"),\n",
        "    col(\"date\").cast(\"int\").alias(\"anio\"),\n",
        "    col(\"value\").cast(\"double\").alias(\"tasa_empleo\")\n",
        ")\n",
        "\n",
        "df_empleo_limpio.show(5)\n"
      ],
      "metadata": {
        "colab": {
          "base_uri": "https://localhost:8080/"
        },
        "id": "p1NL8r7wFhD3",
        "outputId": "4c78e2a3-0684-4b30-a899-c3cb3a87e4bd"
      },
      "execution_count": 137,
      "outputs": [
        {
          "output_type": "stream",
          "name": "stdout",
          "text": [
            "+--------------------+----+----------------+\n",
            "|                pais|anio|     tasa_empleo|\n",
            "+--------------------+----+----------------+\n",
            "|Africa Eastern an...|2024|63.8048907252938|\n",
            "|Africa Eastern an...|2023|63.8966859801838|\n",
            "|Africa Eastern an...|2022|61.6567788664629|\n",
            "|Africa Eastern an...|2021|61.0661154052549|\n",
            "|Africa Eastern an...|2020|60.8607715076156|\n",
            "+--------------------+----+----------------+\n",
            "only showing top 5 rows\n",
            "\n"
          ]
        }
      ]
    },
    {
      "cell_type": "code",
      "source": [
        "import csv\n",
        "\n",
        "# Guardar la lista como archivo CSV\n",
        "with open(\"/content/fx.csv\", \"w\", newline='') as f:\n",
        "    writer = csv.writer(f)\n",
        "    writer.writerow([\"pais\", \"anio\", \"tipo_cambio\"])\n",
        "    writer.writerows(data)\n"
      ],
      "metadata": {
        "id": "6PblZohkFlvh"
      },
      "execution_count": 139,
      "outputs": []
    },
    {
      "cell_type": "code",
      "source": [
        "df_fx_limpio = spark.read.option(\"header\", True).option(\"inferSchema\", True).csv(\"/content/fx.csv\")\n",
        "df_fx_limpio.show(5)\n",
        "df_fx_limpio.printSchema()\n"
      ],
      "metadata": {
        "colab": {
          "base_uri": "https://localhost:8080/"
        },
        "id": "LheovIWdF8Fv",
        "outputId": "10e2c5ed-abd3-4c7a-ec5c-0f3c0c651cee"
      },
      "execution_count": 140,
      "outputs": [
        {
          "output_type": "stream",
          "name": "stdout",
          "text": [
            "+----+----+-----------+\n",
            "|pais|anio|tipo_cambio|\n",
            "+----+----+-----------+\n",
            "|  NG|1950|   0.714286|\n",
            "|  NG|1951|   0.714286|\n",
            "|  NG|1952|   0.714286|\n",
            "|  NG|1953|   0.714286|\n",
            "|  NG|1954|   0.714286|\n",
            "+----+----+-----------+\n",
            "only showing top 5 rows\n",
            "\n",
            "root\n",
            " |-- pais: string (nullable = true)\n",
            " |-- anio: integer (nullable = true)\n",
            " |-- tipo_cambio: double (nullable = true)\n",
            "\n"
          ]
        }
      ]
    },
    {
      "cell_type": "code",
      "source": [
        "#  Inicio  Descarga de Paises / Normalizacion"
      ],
      "metadata": {
        "id": "rczSG_OTF9WF"
      },
      "execution_count": null,
      "outputs": []
    },
    {
      "cell_type": "code",
      "source": [
        "url_alt = \"https://raw.githubusercontent.com/datasets/country-codes/master/data/country-codes.csv\"\n",
        "r = requests.get(url_alt)\n",
        "\n",
        "with open(\"/content/paises_codigos.csv\", \"wb\") as f:\n",
        "    f.write(r.content)\n",
        "\n",
        "df_codigos = spark.read.option(\"header\", True).option(\"inferSchema\", True).csv(\"/content/paises_codigos.csv\")\n",
        "\n",
        "# Verificar columnas disponibles\n",
        "df_codigos.columns[:10]\n"
      ],
      "metadata": {
        "colab": {
          "base_uri": "https://localhost:8080/"
        },
        "id": "ihMGhDoVGs9u",
        "outputId": "e2892b21-e065-456f-9fbd-77c6342f5523"
      },
      "execution_count": 142,
      "outputs": [
        {
          "output_type": "execute_result",
          "data": {
            "text/plain": [
              "['FIFA',\n",
              " 'Dial',\n",
              " 'ISO3166-1-Alpha-3',\n",
              " 'MARC',\n",
              " 'is_independent',\n",
              " 'ISO3166-1-numeric',\n",
              " 'GAUL',\n",
              " 'FIPS',\n",
              " 'WMO',\n",
              " 'ISO3166-1-Alpha-2']"
            ]
          },
          "metadata": {},
          "execution_count": 142
        }
      ]
    },
    {
      "cell_type": "code",
      "source": [
        "# Normalizar código y nombre\n",
        "df_codigos = df_codigos.select(\n",
        "    col(\"ISO3166-1-Alpha-2\").alias(\"pais_codigo\"),\n",
        "    col(\"official_name_en\").alias(\"pais\")\n",
        ").filter(col(\"pais\").isNotNull() & col(\"pais_codigo\").isNotNull())\n",
        "\n",
        "df_codigos.show(5)\n"
      ],
      "metadata": {
        "colab": {
          "base_uri": "https://localhost:8080/"
        },
        "id": "lXO79gk_HGqb",
        "outputId": "6c3c9f2e-4938-4adf-e159-249b43ddb297"
      },
      "execution_count": 143,
      "outputs": [
        {
          "output_type": "stream",
          "name": "stdout",
          "text": [
            "+-----------+--------------+\n",
            "|pais_codigo|          pais|\n",
            "+-----------+--------------+\n",
            "|         AF|   Afghanistan|\n",
            "|         AX| Åland Islands|\n",
            "|         AL|       Albania|\n",
            "|         DZ|       Algeria|\n",
            "|         AS|American Samoa|\n",
            "+-----------+--------------+\n",
            "only showing top 5 rows\n",
            "\n"
          ]
        }
      ]
    },
    {
      "cell_type": "code",
      "source": [
        "# FIN  # Descarga de Paises / Normalizacion"
      ],
      "metadata": {
        "id": "LzjFu0R0IicL"
      },
      "execution_count": 150,
      "outputs": []
    },
    {
      "cell_type": "code",
      "source": [
        "\n",
        "df_codigos = spark.read.option(\"header\", True).option(\"inferSchema\", True).csv(\"/content/paises_codigos.csv\")\n",
        "\n",
        "df_codigos = df_codigos.select(\n",
        "    col(\"ISO3166-1-Alpha-2\").alias(\"pais_codigo\"),\n",
        "    col(\"official_name_en\").alias(\"pais\")\n",
        ").filter(col(\"pais\").isNotNull() & col(\"pais_codigo\").isNotNull())\n",
        "\n",
        "# Volver a crear df_fx_limpio si no lo tienes cargado\n",
        "df_fx_limpio = spark.read.option(\"header\", True).option(\"inferSchema\", True).csv(\"/content/fx.csv\")\n",
        "\n",
        "# Hacer el join para obtener país con nombre completo\n",
        "df_fx_final = df_fx_limpio.join(\n",
        "    df_codigos,\n",
        "    df_fx_limpio.pais == df_codigos.pais_codigo,\n",
        "    \"left\"\n",
        ").select(\n",
        "    df_codigos.pais.alias(\"pais\"),\n",
        "    df_fx_limpio.anio,\n",
        "    df_fx_limpio.tipo_cambio\n",
        ")\n"
      ],
      "metadata": {
        "id": "lCqSKlIzHn14"
      },
      "execution_count": 148,
      "outputs": []
    },
    {
      "cell_type": "code",
      "source": [
        "#Union de fuentes de datos"
      ],
      "metadata": {
        "id": "co3urtGhHqkd"
      },
      "execution_count": null,
      "outputs": []
    },
    {
      "cell_type": "code",
      "source": [
        "df_base = df_pib_limpio.join(\n",
        "    df_empleo_limpio,\n",
        "    on=[\"pais\", \"anio\"],\n",
        "    how=\"inner\"\n",
        ")\n",
        "\n",
        "df_base.show(5)\n",
        "df_base.printSchema()\n"
      ],
      "metadata": {
        "colab": {
          "base_uri": "https://localhost:8080/"
        },
        "id": "a4B2XBJxHsuz",
        "outputId": "dfa066a1-24d5-450e-9950-400910ae144e"
      },
      "execution_count": 146,
      "outputs": [
        {
          "output_type": "stream",
          "name": "stdout",
          "text": [
            "+--------------------+----+-------------------+----------------+\n",
            "|                pais|anio|            pib_usd|     tasa_empleo|\n",
            "+--------------------+----+-------------------+----------------+\n",
            "|Africa Eastern an...|2023|1.24547247167595E12|63.8966859801838|\n",
            "|Africa Eastern an...|2022|1.19142317624296E12|61.6567788664629|\n",
            "|Africa Eastern an...|2021|1.08574517885097E12|61.0661154052549|\n",
            "|Africa Eastern an...|2020|9.33391782089617E11|60.8607715076156|\n",
            "|Africa Eastern an...|2019|1.00972117405491E12|62.6086595977002|\n",
            "+--------------------+----+-------------------+----------------+\n",
            "only showing top 5 rows\n",
            "\n",
            "root\n",
            " |-- pais: string (nullable = true)\n",
            " |-- anio: integer (nullable = true)\n",
            " |-- pib_usd: double (nullable = true)\n",
            " |-- tasa_empleo: double (nullable = true)\n",
            "\n"
          ]
        }
      ]
    },
    {
      "cell_type": "code",
      "source": [
        "df_final = df_base.join(\n",
        "    df_fx_final,\n",
        "    on=[\"pais\", \"anio\"],\n",
        "    how=\"inner\"\n",
        ")\n",
        "\n",
        "df_final.show(10)\n",
        "df_final.printSchema()\n"
      ],
      "metadata": {
        "colab": {
          "base_uri": "https://localhost:8080/"
        },
        "id": "rhyjQiWEH6T8",
        "outputId": "8fe3a775-da4a-4354-d6c5-efddc4117540"
      },
      "execution_count": 149,
      "outputs": [
        {
          "output_type": "stream",
          "name": "stdout",
          "text": [
            "+-----------------+----+-------------------+-----------+-----------------+\n",
            "|             pais|anio|            pib_usd|tasa_empleo|      tipo_cambio|\n",
            "+-----------------+----+-------------------+-----------+-----------------+\n",
            "|        Argentina|2010| 4.2362742209249E11|     55.544|            3.956|\n",
            "|       Azerbaijan|2012|6.96799445041972E10|     58.398|            0.785|\n",
            "|          Bahrain|2014|3.47725265957447E10|     70.357|            0.376|\n",
            "|         Barbados|2019|         5.788288E9|     59.445|              2.0|\n",
            "|           Brazil|2023|2.17366565593727E12|     57.915|           4.8407|\n",
            "|           Brazil|1997|8.83206179730462E11|     58.954|           1.1164|\n",
            "|         Colombia|2014|3.81240864422407E11|     61.096|          2392.46|\n",
            "|           Cyprus|1999| 1.0497907227616E10|     57.138|0.574580556193978|\n",
            "|Equatorial Guinea|1995| 1.41853360867855E8|     57.114|  489.99965339216|\n",
            "|        Guatemala|2020|  7.771946422073E10|     55.219|         7.795435|\n",
            "+-----------------+----+-------------------+-----------+-----------------+\n",
            "only showing top 10 rows\n",
            "\n",
            "root\n",
            " |-- pais: string (nullable = true)\n",
            " |-- anio: integer (nullable = true)\n",
            " |-- pib_usd: double (nullable = true)\n",
            " |-- tasa_empleo: double (nullable = true)\n",
            " |-- tipo_cambio: double (nullable = true)\n",
            "\n"
          ]
        }
      ]
    },
    {
      "cell_type": "code",
      "source": [
        "# Inicio Validacion de datos unificados"
      ],
      "metadata": {
        "id": "rQTcKBeBI2kr"
      },
      "execution_count": null,
      "outputs": []
    },
    {
      "cell_type": "code",
      "source": [
        "from pyspark.sql.functions import col\n",
        "\n",
        "df_final.select([\n",
        "    col(c).isNull().cast(\"int\").alias(c + \"_is_null\")\n",
        "    for c in df_final.columns\n",
        "]).groupBy().sum().show()\n"
      ],
      "metadata": {
        "colab": {
          "base_uri": "https://localhost:8080/"
        },
        "id": "TsNHwNGKI5oJ",
        "outputId": "2ce1bc0f-d325-4434-c3dc-08dba4d410c7"
      },
      "execution_count": 151,
      "outputs": [
        {
          "output_type": "stream",
          "name": "stdout",
          "text": [
            "+-----------------+-----------------+--------------------+------------------------+------------------------+\n",
            "|sum(pais_is_null)|sum(anio_is_null)|sum(pib_usd_is_null)|sum(tasa_empleo_is_null)|sum(tipo_cambio_is_null)|\n",
            "+-----------------+-----------------+--------------------+------------------------+------------------------+\n",
            "|                0|                0|                   0|                       0|                       0|\n",
            "+-----------------+-----------------+--------------------+------------------------+------------------------+\n",
            "\n"
          ]
        }
      ]
    },
    {
      "cell_type": "code",
      "source": [
        "df_final.describe([\"pib_usd\", \"tasa_empleo\", \"tipo_cambio\"]).show()\n"
      ],
      "metadata": {
        "colab": {
          "base_uri": "https://localhost:8080/"
        },
        "id": "pZ929sdqI-Zd",
        "outputId": "70c54da7-14fe-4305-dfe5-803541d31256"
      },
      "execution_count": 152,
      "outputs": [
        {
          "output_type": "stream",
          "name": "stdout",
          "text": [
            "+-------+--------------------+------------------+------------------+\n",
            "|summary|             pib_usd|       tasa_empleo|       tipo_cambio|\n",
            "+-------+--------------------+------------------+------------------+\n",
            "|  count|                4606|              4606|              4606|\n",
            "|   mean|2.053654044773038...| 56.97124164133726|1620.4518299894435|\n",
            "| stddev|8.781787797406036E11|12.348303065208583| 72227.24892523536|\n",
            "|    min|  7.22854038423458E7|            19.886|           1.5E-10|\n",
            "|    max| 1.78817826837073E13|            87.461|  4900000.00000001|\n",
            "+-------+--------------------+------------------+------------------+\n",
            "\n"
          ]
        }
      ]
    },
    {
      "cell_type": "code",
      "source": [
        "df_final.groupBy(\"pais\").count().orderBy(\"count\", ascending=False).show(10)\n"
      ],
      "metadata": {
        "colab": {
          "base_uri": "https://localhost:8080/"
        },
        "id": "6SEbdMmNJDAh",
        "outputId": "3c7df9c8-5b56-44df-a8d6-6e42bb0941f9"
      },
      "execution_count": 153,
      "outputs": [
        {
          "output_type": "stream",
          "name": "stdout",
          "text": [
            "+--------+-----+\n",
            "|    pais|count|\n",
            "+--------+-----+\n",
            "|Malaysia|   33|\n",
            "|    Chad|   33|\n",
            "|    Fiji|   33|\n",
            "|Paraguay|   33|\n",
            "|  Malawi|   33|\n",
            "|  Sweden|   33|\n",
            "|    Iraq|   33|\n",
            "|  Guyana|   33|\n",
            "| Comoros|   33|\n",
            "|Djibouti|   33|\n",
            "+--------+-----+\n",
            "only showing top 10 rows\n",
            "\n"
          ]
        }
      ]
    },
    {
      "cell_type": "code",
      "source": [
        "# Fin de validacion de datos unificados"
      ],
      "metadata": {
        "id": "67yOVLmXJsFh"
      },
      "execution_count": null,
      "outputs": []
    },
    {
      "cell_type": "code",
      "source": [
        "df_final.write \\\n",
        "    .mode(\"overwrite\") \\\n",
        "    .parquet(\"/content/df_final.parquet\")\n"
      ],
      "metadata": {
        "id": "EWMmyPpqJN03"
      },
      "execution_count": 154,
      "outputs": []
    },
    {
      "cell_type": "code",
      "source": [
        "# Inicio de Analisis Exploratorio Pruebas y validacion de datos"
      ],
      "metadata": {
        "id": "h7CoCKGbJoqw"
      },
      "execution_count": null,
      "outputs": []
    },
    {
      "cell_type": "code",
      "source": [
        "df_final.groupBy(\"pais\") \\\n",
        "    .avg(\"pib_usd\") \\\n",
        "    .withColumnRenamed(\"avg(pib_usd)\", \"pib_promedio\") \\\n",
        "    .orderBy(\"pib_promedio\", ascending=False) \\\n",
        "    .show(10, truncate=False)\n"
      ],
      "metadata": {
        "colab": {
          "base_uri": "https://localhost:8080/"
        },
        "id": "2EBK6cEGJvZg",
        "outputId": "d4bfbc3d-ebe9-4239-edfe-729006711596"
      },
      "execution_count": 155,
      "outputs": [
        {
          "output_type": "stream",
          "name": "stdout",
          "text": [
            "+------------------+---------------------+\n",
            "|pais              |pib_promedio         |\n",
            "+------------------+---------------------+\n",
            "|China             |6.230473887484121E12 |\n",
            "|Japan             |4.838522473669395E12 |\n",
            "|Germany           |2.2346984879222773E12|\n",
            "|France            |1.4361547669667334E12|\n",
            "|India             |1.396714751056205E12 |\n",
            "|Brazil            |1.3389622631690845E12|\n",
            "|Canada            |1.2632316330121458E12|\n",
            "|Italy             |1.2189154297405476E12|\n",
            "|Russian Federation|1.1293585244552412E12|\n",
            "|Mexico            |9.51901395319106E11  |\n",
            "+------------------+---------------------+\n",
            "only showing top 10 rows\n",
            "\n"
          ]
        }
      ]
    },
    {
      "cell_type": "code",
      "source": [
        "df_final.select(\"pais\", \"anio\", \"pib_usd\", \"tipo_cambio\") \\\n",
        "    .orderBy(\"pais\", \"anio\") \\\n",
        "    .show(20)\n"
      ],
      "metadata": {
        "colab": {
          "base_uri": "https://localhost:8080/"
        },
        "id": "uMa_PtWjKbdI",
        "outputId": "4a3ad078-1d31-44bb-8e89-8074820668eb"
      },
      "execution_count": 156,
      "outputs": [
        {
          "output_type": "stream",
          "name": "stdout",
          "text": [
            "+-----------+----+-------------------+-----------+\n",
            "|       pais|anio|            pib_usd|tipo_cambio|\n",
            "+-----------+----+-------------------+-----------+\n",
            "|Afghanistan|2000| 3.52141805992345E9|    47.5048|\n",
            "|Afghanistan|2001| 2.81357175387253E9|  47.258979|\n",
            "|Afghanistan|2002| 3.82570143899963E9|     47.263|\n",
            "|Afghanistan|2003| 4.52094681854581E9|     48.865|\n",
            "|Afghanistan|2004| 5.22489671867782E9|      48.22|\n",
            "|Afghanistan|2005| 6.20325653870967E9|      50.41|\n",
            "|Afghanistan|2006| 6.97175828229351E9|      49.85|\n",
            "|Afghanistan|2007| 9.74788618739393E9|      49.72|\n",
            "|Afghanistan|2008|1.01092970475432E10|      52.14|\n",
            "|Afghanistan|2009|1.24161527320567E10|      48.74|\n",
            "|Afghanistan|2010|1.58566685558336E10|      45.27|\n",
            "|Afghanistan|2011|1.78050982063141E10|      49.04|\n",
            "|Afghanistan|2012|1.99073297775872E10|      52.14|\n",
            "|Afghanistan|2013|2.01464167575987E10|      56.64|\n",
            "|Afghanistan|2014|2.04971285556972E10|      57.82|\n",
            "|Afghanistan|2015|1.91342216447325E10|      68.05|\n",
            "|Afghanistan|2016|1.81165723950772E10|    66.8394|\n",
            "|Afghanistan|2017|1.87534564978159E10|    69.4933|\n",
            "|Afghanistan|2018|1.80532226874126E10|    74.9556|\n",
            "|Afghanistan|2019|1.87994444901128E10|    78.4083|\n",
            "+-----------+----+-------------------+-----------+\n",
            "only showing top 20 rows\n",
            "\n"
          ]
        }
      ]
    },
    {
      "cell_type": "code",
      "source": [
        "df_final.groupBy(\"pais\") \\\n",
        "    .avg(\"tasa_empleo\") \\\n",
        "    .withColumnRenamed(\"avg(tasa_empleo)\", \"empleo_promedio\") \\\n",
        "    .orderBy(\"empleo_promedio\", ascending=False) \\\n",
        "    .show(10, truncate=False)\n"
      ],
      "metadata": {
        "colab": {
          "base_uri": "https://localhost:8080/"
        },
        "id": "f4OIz1R7KeLT",
        "outputId": "9228b314-6d34-45b4-b919-830f3d5d8205"
      },
      "execution_count": 157,
      "outputs": [
        {
          "output_type": "stream",
          "name": "stdout",
          "text": [
            "+---------------+-----------------+\n",
            "|pais           |empleo_promedio  |\n",
            "+---------------+-----------------+\n",
            "|Qatar          |84.38260606060607|\n",
            "|Madagascar     |82.66660606060604|\n",
            "|Solomon Islands|82.58387878787879|\n",
            "|Cambodia       |80.45896969696969|\n",
            "|Mozambique     |79.79615151515154|\n",
            "|Burundi        |79.47681818181817|\n",
            "|Nigeria        |78.98330303030305|\n",
            "|Ethiopia       |76.746           |\n",
            "|Niger          |75.99939393939393|\n",
            "|Eritrea        |75.60645         |\n",
            "+---------------+-----------------+\n",
            "only showing top 10 rows\n",
            "\n"
          ]
        }
      ]
    },
    {
      "cell_type": "code",
      "source": [
        "df_final.filter(col(\"pais\") == \"Mexico\") \\\n",
        "    .orderBy(\"anio\") \\\n",
        "    .select(\"anio\", \"tipo_cambio\") \\\n",
        "    .show()\n"
      ],
      "metadata": {
        "colab": {
          "base_uri": "https://localhost:8080/"
        },
        "id": "FEaxa4RJWmHU",
        "outputId": "d4b62db8-d835-49b9-97e7-9b6e5133b625"
      },
      "execution_count": 159,
      "outputs": [
        {
          "output_type": "stream",
          "name": "stdout",
          "text": [
            "+----+-----------+\n",
            "|anio|tipo_cambio|\n",
            "+----+-----------+\n",
            "|1991|      3.071|\n",
            "|1992|     3.1154|\n",
            "|1993|     3.1059|\n",
            "|1994|      5.325|\n",
            "|1995|     7.6425|\n",
            "|1996|     7.8509|\n",
            "|1997|     8.0833|\n",
            "|1998|      9.865|\n",
            "|1999|     9.5143|\n",
            "|2000|     9.5722|\n",
            "|2001|     9.1423|\n",
            "|2002|    10.3125|\n",
            "|2003|     11.236|\n",
            "|2004|    11.2648|\n",
            "|2005|    10.7777|\n",
            "|2006|     10.881|\n",
            "|2007|    10.8662|\n",
            "|2008|    13.5383|\n",
            "|2009|    13.0587|\n",
            "|2010|    12.3571|\n",
            "+----+-----------+\n",
            "only showing top 20 rows\n",
            "\n"
          ]
        }
      ]
    },
    {
      "cell_type": "code",
      "source": [
        "df_final.select(\"pais\", \"anio\", \"pib_usd\", \"tipo_cambio\") \\\n",
        "    .orderBy(\"pais\", \"anio\") \\\n",
        "    .show(20)\n"
      ],
      "metadata": {
        "colab": {
          "base_uri": "https://localhost:8080/"
        },
        "id": "GssBUZgRWhQt",
        "outputId": "ba18bf50-216a-473a-d6e9-331ef23be2b9"
      },
      "execution_count": 158,
      "outputs": [
        {
          "output_type": "stream",
          "name": "stdout",
          "text": [
            "+-----------+----+-------------------+-----------+\n",
            "|       pais|anio|            pib_usd|tipo_cambio|\n",
            "+-----------+----+-------------------+-----------+\n",
            "|Afghanistan|2000| 3.52141805992345E9|    47.5048|\n",
            "|Afghanistan|2001| 2.81357175387253E9|  47.258979|\n",
            "|Afghanistan|2002| 3.82570143899963E9|     47.263|\n",
            "|Afghanistan|2003| 4.52094681854581E9|     48.865|\n",
            "|Afghanistan|2004| 5.22489671867782E9|      48.22|\n",
            "|Afghanistan|2005| 6.20325653870967E9|      50.41|\n",
            "|Afghanistan|2006| 6.97175828229351E9|      49.85|\n",
            "|Afghanistan|2007| 9.74788618739393E9|      49.72|\n",
            "|Afghanistan|2008|1.01092970475432E10|      52.14|\n",
            "|Afghanistan|2009|1.24161527320567E10|      48.74|\n",
            "|Afghanistan|2010|1.58566685558336E10|      45.27|\n",
            "|Afghanistan|2011|1.78050982063141E10|      49.04|\n",
            "|Afghanistan|2012|1.99073297775872E10|      52.14|\n",
            "|Afghanistan|2013|2.01464167575987E10|      56.64|\n",
            "|Afghanistan|2014|2.04971285556972E10|      57.82|\n",
            "|Afghanistan|2015|1.91342216447325E10|      68.05|\n",
            "|Afghanistan|2016|1.81165723950772E10|    66.8394|\n",
            "|Afghanistan|2017|1.87534564978159E10|    69.4933|\n",
            "|Afghanistan|2018|1.80532226874126E10|    74.9556|\n",
            "|Afghanistan|2019|1.87994444901128E10|    78.4083|\n",
            "+-----------+----+-------------------+-----------+\n",
            "only showing top 20 rows\n",
            "\n"
          ]
        }
      ]
    },
    {
      "cell_type": "code",
      "source": [
        "df_final.groupBy(\"pais\") \\\n",
        "    .avg(\"tasa_empleo\") \\\n",
        "    .withColumnRenamed(\"avg(tasa_empleo)\", \"empleo_promedio\") \\\n",
        "    .orderBy(\"empleo_promedio\", ascending=False) \\\n",
        "    .show(10, truncate=False)\n"
      ],
      "metadata": {
        "colab": {
          "base_uri": "https://localhost:8080/",
          "height": 211
        },
        "id": "5LmSBfeWWqgG",
        "outputId": "a1dfc5e0-feef-44ca-d4cf-1414b21659f2"
      },
      "execution_count": 1,
      "outputs": [
        {
          "output_type": "error",
          "ename": "NameError",
          "evalue": "name 'df_final' is not defined",
          "traceback": [
            "\u001b[0;31m---------------------------------------------------------------------------\u001b[0m",
            "\u001b[0;31mNameError\u001b[0m                                 Traceback (most recent call last)",
            "\u001b[0;32m<ipython-input-1-09f1a8e93a85>\u001b[0m in \u001b[0;36m<cell line: 0>\u001b[0;34m()\u001b[0m\n\u001b[0;32m----> 1\u001b[0;31m \u001b[0mdf_final\u001b[0m\u001b[0;34m.\u001b[0m\u001b[0mgroupBy\u001b[0m\u001b[0;34m(\u001b[0m\u001b[0;34m\"pais\"\u001b[0m\u001b[0;34m)\u001b[0m\u001b[0;31m \u001b[0m\u001b[0;31m\\\u001b[0m\u001b[0;34m\u001b[0m\u001b[0;34m\u001b[0m\u001b[0m\n\u001b[0m\u001b[1;32m      2\u001b[0m     \u001b[0;34m.\u001b[0m\u001b[0mavg\u001b[0m\u001b[0;34m(\u001b[0m\u001b[0;34m\"tasa_empleo\"\u001b[0m\u001b[0;34m)\u001b[0m\u001b[0;31m \u001b[0m\u001b[0;31m\\\u001b[0m\u001b[0;34m\u001b[0m\u001b[0;34m\u001b[0m\u001b[0m\n\u001b[1;32m      3\u001b[0m     \u001b[0;34m.\u001b[0m\u001b[0mwithColumnRenamed\u001b[0m\u001b[0;34m(\u001b[0m\u001b[0;34m\"avg(tasa_empleo)\"\u001b[0m\u001b[0;34m,\u001b[0m \u001b[0;34m\"empleo_promedio\"\u001b[0m\u001b[0;34m)\u001b[0m\u001b[0;31m \u001b[0m\u001b[0;31m\\\u001b[0m\u001b[0;34m\u001b[0m\u001b[0;34m\u001b[0m\u001b[0m\n\u001b[1;32m      4\u001b[0m     \u001b[0;34m.\u001b[0m\u001b[0morderBy\u001b[0m\u001b[0;34m(\u001b[0m\u001b[0;34m\"empleo_promedio\"\u001b[0m\u001b[0;34m,\u001b[0m \u001b[0mascending\u001b[0m\u001b[0;34m=\u001b[0m\u001b[0;32mFalse\u001b[0m\u001b[0;34m)\u001b[0m\u001b[0;31m \u001b[0m\u001b[0;31m\\\u001b[0m\u001b[0;34m\u001b[0m\u001b[0;34m\u001b[0m\u001b[0m\n\u001b[1;32m      5\u001b[0m     \u001b[0;34m.\u001b[0m\u001b[0mshow\u001b[0m\u001b[0;34m(\u001b[0m\u001b[0;36m10\u001b[0m\u001b[0;34m,\u001b[0m \u001b[0mtruncate\u001b[0m\u001b[0;34m=\u001b[0m\u001b[0;32mFalse\u001b[0m\u001b[0;34m)\u001b[0m\u001b[0;34m\u001b[0m\u001b[0;34m\u001b[0m\u001b[0m\n",
            "\u001b[0;31mNameError\u001b[0m: name 'df_final' is not defined"
          ]
        }
      ]
    },
    {
      "cell_type": "code",
      "source": [
        "#fin de pruebas y validacion de datos"
      ],
      "metadata": {
        "id": "brkjk2MfWvQs"
      },
      "execution_count": null,
      "outputs": []
    },
    {
      "cell_type": "code",
      "source": [
        "# Plataforma Predictiva Spark + Widgets en Colab\n",
        "\n",
        "import pandas as pd\n",
        "import matplotlib.pyplot as plt\n",
        "from pyspark.ml.regression import LinearRegression\n",
        "from pyspark.ml.feature import VectorAssembler\n",
        "from IPython.display import display\n",
        "import ipywidgets as widgets\n",
        "\n",
        "# Asegúrate de que df_final existe y contiene las columnas: 'pais', 'anio', 'pib_usd', 'tasa_empleo', 'tipo_cambio'\n",
        "\n",
        "# Widgets interactivos\n",
        "paises = [row.pais for row in df_final.select(\"pais\").distinct().collect() if row.pais is not None]\n",
        "variable_objetivo_widget = widgets.Dropdown(\n",
        "    options=[\"pib_usd\", \"tasa_empleo\", \"tipo_cambio\"],\n",
        "    description='Predecir:',\n",
        "    value='tipo_cambio'\n",
        ")\n",
        "pais_widget = widgets.Dropdown(\n",
        "    options=sorted(paises),\n",
        "    description='País:',\n",
        "    value='Mexico'\n",
        ")\n",
        "\n",
        "# Función dinámica\n",
        "\n",
        "def predecir_variable(pais_seleccionado, variable_objetivo):\n",
        "    print(f\"Entrenando modelo para {pais_seleccionado}, prediciendo '{variable_objetivo}'...\")\n",
        "    df_pais = df_final.filter(df_final.pais == pais_seleccionado)\n",
        "\n",
        "    # Features: todas menos la variable objetivo y 'pais'\n",
        "    features = [col for col in [\"anio\", \"pib_usd\", \"tasa_empleo\"] if col != variable_objetivo]\n",
        "\n",
        "    assembler = VectorAssembler(inputCols=features, outputCol=\"features\")\n",
        "    df_vector = assembler.transform(df_pais).select(\"anio\", *features, variable_objetivo, \"features\")\n",
        "    df_vector = df_vector.withColumnRenamed(variable_objetivo, \"label\")\n",
        "\n",
        "    # Entrenar modelo\n",
        "    lr = LinearRegression(featuresCol=\"features\", labelCol=\"label\")\n",
        "    modelo = lr.fit(df_vector)\n",
        "\n",
        "    # Último año registrado\n",
        "    ultimo = df_vector.orderBy(\"anio\", ascending=False).first()\n",
        "    anio_base = ultimo[\"anio\"]\n",
        "    ult_vals = {col: ultimo[col] for col in features}\n",
        "\n",
        "    # Proyección para próximos 6 años\n",
        "    futuros = []\n",
        "    for i in range(1, 7):\n",
        "        entrada = {\n",
        "            \"anio\": anio_base + i,\n",
        "            features[0]: ult_vals[features[0]] * (1.03 ** i) if \"pib\" in features[0] else ult_vals[features[0]] + 0.2 * i,\n",
        "            features[1]: ult_vals[features[1]] + 0.2 * i if \"empleo\" in features[1] else ult_vals[features[1]] * (1.03 ** i)\n",
        "        }\n",
        "        futuros.append(entrada)\n",
        "\n",
        "    df_futuro = spark.createDataFrame(pd.DataFrame(futuros))\n",
        "    df_futuro_vec = assembler.transform(df_futuro)\n",
        "    predicciones = modelo.transform(df_futuro_vec).select(\"anio\", \"prediction\")\n",
        "\n",
        "    # Convertir histórico y predicción a pandas\n",
        "    historico_pd = df_vector.select(\"anio\", \"label\").toPandas().rename(columns={\"label\": \"valor\"})\n",
        "    pred_pd = predicciones.toPandas().rename(columns={\"prediction\": \"valor\"})\n",
        "\n",
        "    # Visualización\n",
        "    plt.figure(figsize=(10, 5))\n",
        "    plt.plot(historico_pd[\"anio\"], historico_pd[\"valor\"], label=\"Histórico\", marker='o')\n",
        "    plt.plot(pred_pd[\"anio\"], pred_pd[\"valor\"], label=\"Proyección\", linestyle=\"--\", marker='x')\n",
        "    plt.title(f\"Proyección de {variable_objetivo.replace('_', ' ').title()} en {pais_seleccionado}\")\n",
        "    plt.xlabel(\"Año\")\n",
        "    plt.ylabel(variable_objetivo.replace('_', ' ').title())\n",
        "    plt.grid(True)\n",
        "    plt.legend()\n",
        "    plt.tight_layout()\n",
        "    plt.show()\n",
        "\n",
        "    # Narrativa automática\n",
        "    inicio = round(historico_pd.valor.iloc[-1], 2)\n",
        "    fin = round(pred_pd.valor.iloc[-1], 2)\n",
        "    print(f\"\\nEntre {pred_pd.anio.min()} y {pred_pd.anio.max()}, se espera que '{variable_objetivo}' en {pais_seleccionado} cambie de {inicio} a {fin} seg\\u00fan proyecciones basadas en Spark MLlib.\")\n",
        "\n",
        "# Mostrar UI\n",
        "widgets.interact(predecir_variable, pais_seleccionado=pais_widget, variable_objetivo=variable_objetivo_widget);\n"
      ],
      "metadata": {
        "id": "4kfqt025m9e9"
      },
      "execution_count": null,
      "outputs": []
    }
  ]
}